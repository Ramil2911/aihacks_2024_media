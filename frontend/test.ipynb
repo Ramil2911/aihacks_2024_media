{
 "cells": [
  {
   "cell_type": "code",
   "id": "initial_id",
   "metadata": {
    "collapsed": true,
    "ExecuteTime": {
     "end_time": "2024-07-07T01:28:00.269958Z",
     "start_time": "2024-07-07T01:27:59.991681Z"
    }
   },
   "source": "import pandas as pd",
   "outputs": [],
   "execution_count": 1
  },
  {
   "metadata": {
    "ExecuteTime": {
     "end_time": "2024-07-07T02:40:27.972487Z",
     "start_time": "2024-07-07T02:40:27.770696Z"
    }
   },
   "cell_type": "code",
   "source": "test=pd.read_json('train_data.json')",
   "id": "c1142c14f034fd1a",
   "outputs": [],
   "execution_count": 8
  },
  {
   "metadata": {
    "ExecuteTime": {
     "end_time": "2024-07-07T01:28:03.721468Z",
     "start_time": "2024-07-07T01:28:03.713327Z"
    }
   },
   "cell_type": "code",
   "source": "test",
   "id": "3ed36d7b9b36600d",
   "outputs": [
    {
     "data": {
      "text/plain": [
       "hash                                               41567f28db47bee7\n",
       "targetAudience    {'name': 'All 25-45 BC', 'gender': 'all', 'age...\n",
       "points            [{'lat': '55.573691', 'lon': '37.631423', 'azi...\n",
       "value                                                         23.51\n",
       "Name: 0, dtype: object"
      ]
     },
     "execution_count": 3,
     "metadata": {},
     "output_type": "execute_result"
    }
   ],
   "execution_count": 3
  },
  {
   "metadata": {
    "ExecuteTime": {
     "end_time": "2024-07-07T02:01:50.691435Z",
     "start_time": "2024-07-07T02:01:50.675846Z"
    }
   },
   "cell_type": "code",
   "source": "type(test['targetAudience'])",
   "id": "7e0009909a38635e",
   "outputs": [
    {
     "data": {
      "text/plain": [
       "dict"
      ]
     },
     "execution_count": 4,
     "metadata": {},
     "output_type": "execute_result"
    }
   ],
   "execution_count": 4
  },
  {
   "metadata": {
    "ExecuteTime": {
     "end_time": "2024-07-07T02:40:29.957367Z",
     "start_time": "2024-07-07T02:40:29.945772Z"
    }
   },
   "cell_type": "code",
   "source": [
    "aud = pd.DataFrame.from_dict(test['targetAudience'], orient='index')\n",
    "aud"
   ],
   "id": "e6f033ff1b70d33a",
   "outputs": [
    {
     "ename": "TypeError",
     "evalue": "'numpy.ndarray' object is not callable",
     "output_type": "error",
     "traceback": [
      "\u001B[0;31m---------------------------------------------------------------------------\u001B[0m",
      "\u001B[0;31mTypeError\u001B[0m                                 Traceback (most recent call last)",
      "\u001B[0;32m/tmp/ipykernel_545313/655203936.py\u001B[0m in \u001B[0;36m?\u001B[0;34m()\u001B[0m\n\u001B[0;32m----> 1\u001B[0;31m \u001B[0maud\u001B[0m \u001B[0;34m=\u001B[0m \u001B[0mpd\u001B[0m\u001B[0;34m.\u001B[0m\u001B[0mDataFrame\u001B[0m\u001B[0;34m.\u001B[0m\u001B[0mfrom_dict\u001B[0m\u001B[0;34m(\u001B[0m\u001B[0mtest\u001B[0m\u001B[0;34m[\u001B[0m\u001B[0;34m'targetAudience'\u001B[0m\u001B[0;34m]\u001B[0m\u001B[0;34m,\u001B[0m \u001B[0morient\u001B[0m\u001B[0;34m=\u001B[0m\u001B[0;34m'index'\u001B[0m\u001B[0;34m)\u001B[0m\u001B[0;34m\u001B[0m\u001B[0;34m\u001B[0m\u001B[0m\n\u001B[0m\u001B[1;32m      2\u001B[0m \u001B[0maud\u001B[0m\u001B[0;34m\u001B[0m\u001B[0;34m\u001B[0m\u001B[0m\n",
      "\u001B[0;32m~/miniconda3/envs/ml/lib/python3.11/site-packages/pandas/core/frame.py\u001B[0m in \u001B[0;36m?\u001B[0;34m(cls, data, orient, dtype, columns)\u001B[0m\n\u001B[1;32m   1896\u001B[0m         \u001B[0morient\u001B[0m \u001B[0;34m=\u001B[0m \u001B[0morient\u001B[0m\u001B[0;34m.\u001B[0m\u001B[0mlower\u001B[0m\u001B[0;34m(\u001B[0m\u001B[0;34m)\u001B[0m  \u001B[0;31m# type: ignore[assignment]\u001B[0m\u001B[0;34m\u001B[0m\u001B[0;34m\u001B[0m\u001B[0m\n\u001B[1;32m   1897\u001B[0m         \u001B[0;32mif\u001B[0m \u001B[0morient\u001B[0m \u001B[0;34m==\u001B[0m \u001B[0;34m\"index\"\u001B[0m\u001B[0;34m:\u001B[0m\u001B[0;34m\u001B[0m\u001B[0;34m\u001B[0m\u001B[0m\n\u001B[1;32m   1898\u001B[0m             \u001B[0;32mif\u001B[0m \u001B[0mlen\u001B[0m\u001B[0;34m(\u001B[0m\u001B[0mdata\u001B[0m\u001B[0;34m)\u001B[0m \u001B[0;34m>\u001B[0m \u001B[0;36m0\u001B[0m\u001B[0;34m:\u001B[0m\u001B[0;34m\u001B[0m\u001B[0;34m\u001B[0m\u001B[0m\n\u001B[1;32m   1899\u001B[0m                 \u001B[0;31m# TODO speed up Series case\u001B[0m\u001B[0;34m\u001B[0m\u001B[0;34m\u001B[0m\u001B[0m\n\u001B[0;32m-> 1900\u001B[0;31m                 \u001B[0;32mif\u001B[0m \u001B[0misinstance\u001B[0m\u001B[0;34m(\u001B[0m\u001B[0mnext\u001B[0m\u001B[0;34m(\u001B[0m\u001B[0miter\u001B[0m\u001B[0;34m(\u001B[0m\u001B[0mdata\u001B[0m\u001B[0;34m.\u001B[0m\u001B[0mvalues\u001B[0m\u001B[0;34m(\u001B[0m\u001B[0;34m)\u001B[0m\u001B[0;34m)\u001B[0m\u001B[0;34m)\u001B[0m\u001B[0;34m,\u001B[0m \u001B[0;34m(\u001B[0m\u001B[0mSeries\u001B[0m\u001B[0;34m,\u001B[0m \u001B[0mdict\u001B[0m\u001B[0;34m)\u001B[0m\u001B[0;34m)\u001B[0m\u001B[0;34m:\u001B[0m\u001B[0;34m\u001B[0m\u001B[0;34m\u001B[0m\u001B[0m\n\u001B[0m\u001B[1;32m   1901\u001B[0m                     \u001B[0mdata\u001B[0m \u001B[0;34m=\u001B[0m \u001B[0m_from_nested_dict\u001B[0m\u001B[0;34m(\u001B[0m\u001B[0mdata\u001B[0m\u001B[0;34m)\u001B[0m\u001B[0;34m\u001B[0m\u001B[0;34m\u001B[0m\u001B[0m\n\u001B[1;32m   1902\u001B[0m                 \u001B[0;32melse\u001B[0m\u001B[0;34m:\u001B[0m\u001B[0;34m\u001B[0m\u001B[0;34m\u001B[0m\u001B[0m\n\u001B[1;32m   1903\u001B[0m                     \u001B[0mindex\u001B[0m \u001B[0;34m=\u001B[0m \u001B[0mlist\u001B[0m\u001B[0;34m(\u001B[0m\u001B[0mdata\u001B[0m\u001B[0;34m.\u001B[0m\u001B[0mkeys\u001B[0m\u001B[0;34m(\u001B[0m\u001B[0;34m)\u001B[0m\u001B[0;34m)\u001B[0m\u001B[0;34m\u001B[0m\u001B[0;34m\u001B[0m\u001B[0m\n",
      "\u001B[0;31mTypeError\u001B[0m: 'numpy.ndarray' object is not callable"
     ]
    }
   ],
   "execution_count": 9
  },
  {
   "metadata": {
    "ExecuteTime": {
     "end_time": "2024-07-07T02:40:56.474068Z",
     "start_time": "2024-07-07T02:40:56.464307Z"
    }
   },
   "cell_type": "code",
   "source": "test['targetAudience'].value_counts()",
   "id": "644ad92c54f2bdd",
   "outputs": [
    {
     "data": {
      "text/plain": [
       "targetAudience\n",
       "{'name': 'All 18+', 'gender': 'all', 'ageFrom': 18, 'ageTo': 100, 'income': 'abc'}                291\n",
       "{'name': 'All 25-45 BC', 'gender': 'all', 'ageFrom': 25, 'ageTo': 45, 'income': 'bc'}             103\n",
       "{'name': 'All 25-50 BC', 'gender': 'all', 'ageFrom': 25, 'ageTo': 50, 'income': 'bc'}             102\n",
       "{'name': 'All 30-55 BC', 'gender': 'all', 'ageFrom': 30, 'ageTo': 55, 'income': 'bc'}              88\n",
       "{'name': 'ALL 25-55 BC', 'gender': 'all', 'ageFrom': 25, 'ageTo': 55, 'income': 'bc'}              66\n",
       "                                                                                                 ... \n",
       "{'name': 'All 14-49', 'gender': 'all', 'ageFrom': 14, 'ageTo': 49, 'income': 'abc'}                 1\n",
       "{'name': 'All 18-50 ', 'gender': 'all', 'ageFrom': 18, 'ageTo': 50, 'income': 'abc'}                1\n",
       "{'name': 'All 35-70 BC', 'gender': 'all', 'ageFrom': 35, 'ageTo': 70, 'income': 'bc'}               1\n",
       "{'name': 'W 25-45', 'gender': 'female', 'ageFrom': 25, 'ageTo': 45, 'income': 'abc'}                1\n",
       "{'id': None, 'name': 'W24+', 'gender': 'female', 'ageFrom': 24, 'ageTo': 100, 'income': 'abc'}      1\n",
       "Name: count, Length: 94, dtype: int64"
      ]
     },
     "execution_count": 11,
     "metadata": {},
     "output_type": "execute_result"
    }
   ],
   "execution_count": 11
  },
  {
   "metadata": {},
   "cell_type": "code",
   "outputs": [],
   "execution_count": null,
   "source": "",
   "id": "c7bd88f115b7d4d3"
  }
 ],
 "metadata": {
  "kernelspec": {
   "display_name": "Python 3",
   "language": "python",
   "name": "python3"
  },
  "language_info": {
   "codemirror_mode": {
    "name": "ipython",
    "version": 2
   },
   "file_extension": ".py",
   "mimetype": "text/x-python",
   "name": "python",
   "nbconvert_exporter": "python",
   "pygments_lexer": "ipython2",
   "version": "2.7.6"
  }
 },
 "nbformat": 4,
 "nbformat_minor": 5
}
